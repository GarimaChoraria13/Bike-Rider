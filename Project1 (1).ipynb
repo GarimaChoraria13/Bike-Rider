{
 "cells": [
  {
   "cell_type": "code",
   "execution_count": 1,
   "id": "c1c53b1e",
   "metadata": {},
   "outputs": [],
   "source": [
    "import pandas as pd\n",
    "import numpy as np"
   ]
  },
  {
   "cell_type": "markdown",
   "id": "7296c5a9",
   "metadata": {},
   "source": [
    "# Task 1: Data Acquisition and Data Wrangling on dataset 1 and dataset 2 "
   ]
  },
  {
   "cell_type": "markdown",
   "id": "7af9b329",
   "metadata": {},
   "source": [
    "Data Acquisition"
   ]
  },
  {
   "cell_type": "code",
   "execution_count": 2,
   "id": "93974b00",
   "metadata": {},
   "outputs": [],
   "source": [
    "df=pd.read_excel(\"C:\\\\Users\\\\chora\\\\OneDrive\\\\Desktop\\\\Nexthike\\\\dataset_1.xlsx\")"
   ]
  },
  {
   "cell_type": "code",
   "execution_count": 3,
   "id": "9e4e4c07",
   "metadata": {},
   "outputs": [
    {
     "data": {
      "text/html": [
       "<div>\n",
       "<style scoped>\n",
       "    .dataframe tbody tr th:only-of-type {\n",
       "        vertical-align: middle;\n",
       "    }\n",
       "\n",
       "    .dataframe tbody tr th {\n",
       "        vertical-align: top;\n",
       "    }\n",
       "\n",
       "    .dataframe thead th {\n",
       "        text-align: right;\n",
       "    }\n",
       "</style>\n",
       "<table border=\"1\" class=\"dataframe\">\n",
       "  <thead>\n",
       "    <tr style=\"text-align: right;\">\n",
       "      <th></th>\n",
       "      <th>instant</th>\n",
       "      <th>dteday</th>\n",
       "      <th>season</th>\n",
       "      <th>yr</th>\n",
       "      <th>mnth</th>\n",
       "      <th>hr</th>\n",
       "      <th>holiday</th>\n",
       "      <th>weekday</th>\n",
       "      <th>weathersit</th>\n",
       "      <th>temp</th>\n",
       "    </tr>\n",
       "  </thead>\n",
       "  <tbody>\n",
       "    <tr>\n",
       "      <th>0</th>\n",
       "      <td>1</td>\n",
       "      <td>2011-01-01</td>\n",
       "      <td>1</td>\n",
       "      <td>0</td>\n",
       "      <td>1</td>\n",
       "      <td>0</td>\n",
       "      <td>False</td>\n",
       "      <td>6</td>\n",
       "      <td>1</td>\n",
       "      <td>0.24</td>\n",
       "    </tr>\n",
       "    <tr>\n",
       "      <th>1</th>\n",
       "      <td>2</td>\n",
       "      <td>2011-01-01</td>\n",
       "      <td>1</td>\n",
       "      <td>0</td>\n",
       "      <td>1</td>\n",
       "      <td>1</td>\n",
       "      <td>False</td>\n",
       "      <td>6</td>\n",
       "      <td>1</td>\n",
       "      <td>0.22</td>\n",
       "    </tr>\n",
       "    <tr>\n",
       "      <th>2</th>\n",
       "      <td>3</td>\n",
       "      <td>2011-01-01</td>\n",
       "      <td>1</td>\n",
       "      <td>0</td>\n",
       "      <td>1</td>\n",
       "      <td>2</td>\n",
       "      <td>False</td>\n",
       "      <td>6</td>\n",
       "      <td>1</td>\n",
       "      <td>0.22</td>\n",
       "    </tr>\n",
       "  </tbody>\n",
       "</table>\n",
       "</div>"
      ],
      "text/plain": [
       "   instant     dteday  season  yr  mnth  hr  holiday  weekday  weathersit  \\\n",
       "0        1 2011-01-01       1   0     1   0    False        6           1   \n",
       "1        2 2011-01-01       1   0     1   1    False        6           1   \n",
       "2        3 2011-01-01       1   0     1   2    False        6           1   \n",
       "\n",
       "   temp  \n",
       "0  0.24  \n",
       "1  0.22  \n",
       "2  0.22  "
      ]
     },
     "execution_count": 3,
     "metadata": {},
     "output_type": "execute_result"
    }
   ],
   "source": [
    "df.head(3)"
   ]
  },
  {
   "cell_type": "code",
   "execution_count": 4,
   "id": "00ebd6ab",
   "metadata": {},
   "outputs": [
    {
     "data": {
      "text/plain": [
       "Index(['instant', 'dteday', 'season', 'yr', 'mnth', 'hr', 'holiday', 'weekday',\n",
       "       'weathersit', 'temp'],\n",
       "      dtype='object')"
      ]
     },
     "execution_count": 4,
     "metadata": {},
     "output_type": "execute_result"
    }
   ],
   "source": [
    "df.columns"
   ]
  },
  {
   "cell_type": "code",
   "execution_count": 5,
   "id": "4b6d0ac2",
   "metadata": {},
   "outputs": [],
   "source": [
    "df1=pd.read_excel(\"C:\\\\Users\\\\chora\\\\OneDrive\\\\Desktop\\\\Nexthike\\\\dataset_2.xlsx\")"
   ]
  },
  {
   "cell_type": "code",
   "execution_count": 6,
   "id": "76f0c05f",
   "metadata": {},
   "outputs": [
    {
     "data": {
      "text/html": [
       "<div>\n",
       "<style scoped>\n",
       "    .dataframe tbody tr th:only-of-type {\n",
       "        vertical-align: middle;\n",
       "    }\n",
       "\n",
       "    .dataframe tbody tr th {\n",
       "        vertical-align: top;\n",
       "    }\n",
       "\n",
       "    .dataframe thead th {\n",
       "        text-align: right;\n",
       "    }\n",
       "</style>\n",
       "<table border=\"1\" class=\"dataframe\">\n",
       "  <thead>\n",
       "    <tr style=\"text-align: right;\">\n",
       "      <th></th>\n",
       "      <th>Unnamed: 0</th>\n",
       "      <th>instant</th>\n",
       "      <th>atemp</th>\n",
       "      <th>hum</th>\n",
       "      <th>windspeed</th>\n",
       "      <th>casual</th>\n",
       "      <th>registered</th>\n",
       "      <th>cnt</th>\n",
       "    </tr>\n",
       "  </thead>\n",
       "  <tbody>\n",
       "    <tr>\n",
       "      <th>0</th>\n",
       "      <td>0</td>\n",
       "      <td>1</td>\n",
       "      <td>0.2879</td>\n",
       "      <td>0.81</td>\n",
       "      <td>0.0</td>\n",
       "      <td>3</td>\n",
       "      <td>13</td>\n",
       "      <td>16</td>\n",
       "    </tr>\n",
       "    <tr>\n",
       "      <th>1</th>\n",
       "      <td>1</td>\n",
       "      <td>2</td>\n",
       "      <td>0.2727</td>\n",
       "      <td>0.80</td>\n",
       "      <td>0.0</td>\n",
       "      <td>8</td>\n",
       "      <td>32</td>\n",
       "      <td>40</td>\n",
       "    </tr>\n",
       "    <tr>\n",
       "      <th>2</th>\n",
       "      <td>2</td>\n",
       "      <td>3</td>\n",
       "      <td>0.2727</td>\n",
       "      <td>0.80</td>\n",
       "      <td>0.0</td>\n",
       "      <td>5</td>\n",
       "      <td>27</td>\n",
       "      <td>32</td>\n",
       "    </tr>\n",
       "  </tbody>\n",
       "</table>\n",
       "</div>"
      ],
      "text/plain": [
       "   Unnamed: 0  instant   atemp   hum  windspeed  casual  registered  cnt\n",
       "0           0        1  0.2879  0.81        0.0       3          13   16\n",
       "1           1        2  0.2727  0.80        0.0       8          32   40\n",
       "2           2        3  0.2727  0.80        0.0       5          27   32"
      ]
     },
     "execution_count": 6,
     "metadata": {},
     "output_type": "execute_result"
    }
   ],
   "source": [
    "df1.head(3)"
   ]
  },
  {
   "cell_type": "code",
   "execution_count": 7,
   "id": "a2912ec3",
   "metadata": {},
   "outputs": [
    {
     "data": {
      "text/plain": [
       "Index(['Unnamed: 0', 'instant', 'atemp', 'hum', 'windspeed', 'casual',\n",
       "       'registered', 'cnt'],\n",
       "      dtype='object')"
      ]
     },
     "execution_count": 7,
     "metadata": {},
     "output_type": "execute_result"
    }
   ],
   "source": [
    "df1.columns"
   ]
  },
  {
   "cell_type": "markdown",
   "id": "1912cd19",
   "metadata": {},
   "source": [
    "# Merging Datasets"
   ]
  },
  {
   "cell_type": "code",
   "execution_count": 8,
   "id": "63ef3792",
   "metadata": {},
   "outputs": [],
   "source": [
    "data=pd.merge(df,df1,on='instant',how='inner')"
   ]
  },
  {
   "cell_type": "code",
   "execution_count": 9,
   "id": "1340d090",
   "metadata": {},
   "outputs": [
    {
     "data": {
      "text/html": [
       "<div>\n",
       "<style scoped>\n",
       "    .dataframe tbody tr th:only-of-type {\n",
       "        vertical-align: middle;\n",
       "    }\n",
       "\n",
       "    .dataframe tbody tr th {\n",
       "        vertical-align: top;\n",
       "    }\n",
       "\n",
       "    .dataframe thead th {\n",
       "        text-align: right;\n",
       "    }\n",
       "</style>\n",
       "<table border=\"1\" class=\"dataframe\">\n",
       "  <thead>\n",
       "    <tr style=\"text-align: right;\">\n",
       "      <th></th>\n",
       "      <th>instant</th>\n",
       "      <th>dteday</th>\n",
       "      <th>season</th>\n",
       "      <th>yr</th>\n",
       "      <th>mnth</th>\n",
       "      <th>hr</th>\n",
       "      <th>holiday</th>\n",
       "      <th>weekday</th>\n",
       "      <th>weathersit</th>\n",
       "      <th>temp</th>\n",
       "      <th>Unnamed: 0</th>\n",
       "      <th>atemp</th>\n",
       "      <th>hum</th>\n",
       "      <th>windspeed</th>\n",
       "      <th>casual</th>\n",
       "      <th>registered</th>\n",
       "      <th>cnt</th>\n",
       "    </tr>\n",
       "  </thead>\n",
       "  <tbody>\n",
       "    <tr>\n",
       "      <th>0</th>\n",
       "      <td>1</td>\n",
       "      <td>2011-01-01</td>\n",
       "      <td>1</td>\n",
       "      <td>0</td>\n",
       "      <td>1</td>\n",
       "      <td>0</td>\n",
       "      <td>False</td>\n",
       "      <td>6</td>\n",
       "      <td>1</td>\n",
       "      <td>0.24</td>\n",
       "      <td>0</td>\n",
       "      <td>0.2879</td>\n",
       "      <td>0.81</td>\n",
       "      <td>0.0</td>\n",
       "      <td>3</td>\n",
       "      <td>13</td>\n",
       "      <td>16</td>\n",
       "    </tr>\n",
       "    <tr>\n",
       "      <th>1</th>\n",
       "      <td>2</td>\n",
       "      <td>2011-01-01</td>\n",
       "      <td>1</td>\n",
       "      <td>0</td>\n",
       "      <td>1</td>\n",
       "      <td>1</td>\n",
       "      <td>False</td>\n",
       "      <td>6</td>\n",
       "      <td>1</td>\n",
       "      <td>0.22</td>\n",
       "      <td>1</td>\n",
       "      <td>0.2727</td>\n",
       "      <td>0.80</td>\n",
       "      <td>0.0</td>\n",
       "      <td>8</td>\n",
       "      <td>32</td>\n",
       "      <td>40</td>\n",
       "    </tr>\n",
       "    <tr>\n",
       "      <th>2</th>\n",
       "      <td>3</td>\n",
       "      <td>2011-01-01</td>\n",
       "      <td>1</td>\n",
       "      <td>0</td>\n",
       "      <td>1</td>\n",
       "      <td>2</td>\n",
       "      <td>False</td>\n",
       "      <td>6</td>\n",
       "      <td>1</td>\n",
       "      <td>0.22</td>\n",
       "      <td>2</td>\n",
       "      <td>0.2727</td>\n",
       "      <td>0.80</td>\n",
       "      <td>0.0</td>\n",
       "      <td>5</td>\n",
       "      <td>27</td>\n",
       "      <td>32</td>\n",
       "    </tr>\n",
       "    <tr>\n",
       "      <th>3</th>\n",
       "      <td>4</td>\n",
       "      <td>2011-01-01</td>\n",
       "      <td>1</td>\n",
       "      <td>0</td>\n",
       "      <td>1</td>\n",
       "      <td>3</td>\n",
       "      <td>False</td>\n",
       "      <td>6</td>\n",
       "      <td>1</td>\n",
       "      <td>0.24</td>\n",
       "      <td>3</td>\n",
       "      <td>0.2879</td>\n",
       "      <td>0.75</td>\n",
       "      <td>0.0</td>\n",
       "      <td>3</td>\n",
       "      <td>10</td>\n",
       "      <td>13</td>\n",
       "    </tr>\n",
       "    <tr>\n",
       "      <th>4</th>\n",
       "      <td>5</td>\n",
       "      <td>2011-01-01</td>\n",
       "      <td>1</td>\n",
       "      <td>0</td>\n",
       "      <td>1</td>\n",
       "      <td>4</td>\n",
       "      <td>False</td>\n",
       "      <td>6</td>\n",
       "      <td>1</td>\n",
       "      <td>0.24</td>\n",
       "      <td>4</td>\n",
       "      <td>0.2879</td>\n",
       "      <td>0.75</td>\n",
       "      <td>0.0</td>\n",
       "      <td>0</td>\n",
       "      <td>1</td>\n",
       "      <td>1</td>\n",
       "    </tr>\n",
       "  </tbody>\n",
       "</table>\n",
       "</div>"
      ],
      "text/plain": [
       "   instant     dteday  season  yr  mnth  hr  holiday  weekday  weathersit  \\\n",
       "0        1 2011-01-01       1   0     1   0    False        6           1   \n",
       "1        2 2011-01-01       1   0     1   1    False        6           1   \n",
       "2        3 2011-01-01       1   0     1   2    False        6           1   \n",
       "3        4 2011-01-01       1   0     1   3    False        6           1   \n",
       "4        5 2011-01-01       1   0     1   4    False        6           1   \n",
       "\n",
       "   temp  Unnamed: 0   atemp   hum  windspeed  casual  registered  cnt  \n",
       "0  0.24           0  0.2879  0.81        0.0       3          13   16  \n",
       "1  0.22           1  0.2727  0.80        0.0       8          32   40  \n",
       "2  0.22           2  0.2727  0.80        0.0       5          27   32  \n",
       "3  0.24           3  0.2879  0.75        0.0       3          10   13  \n",
       "4  0.24           4  0.2879  0.75        0.0       0           1    1  "
      ]
     },
     "execution_count": 9,
     "metadata": {},
     "output_type": "execute_result"
    }
   ],
   "source": [
    "data.head()"
   ]
  },
  {
   "cell_type": "markdown",
   "id": "99cd3e30",
   "metadata": {},
   "source": [
    "# Dropping Unwanted Columns"
   ]
  },
  {
   "cell_type": "code",
   "execution_count": 13,
   "id": "9699252f",
   "metadata": {},
   "outputs": [],
   "source": [
    "drop_data=data.drop(['Unnamed: 0','instant'], axis=1)"
   ]
  },
  {
   "cell_type": "code",
   "execution_count": 14,
   "id": "44e7c90e",
   "metadata": {},
   "outputs": [
    {
     "data": {
      "text/html": [
       "<div>\n",
       "<style scoped>\n",
       "    .dataframe tbody tr th:only-of-type {\n",
       "        vertical-align: middle;\n",
       "    }\n",
       "\n",
       "    .dataframe tbody tr th {\n",
       "        vertical-align: top;\n",
       "    }\n",
       "\n",
       "    .dataframe thead th {\n",
       "        text-align: right;\n",
       "    }\n",
       "</style>\n",
       "<table border=\"1\" class=\"dataframe\">\n",
       "  <thead>\n",
       "    <tr style=\"text-align: right;\">\n",
       "      <th></th>\n",
       "      <th>dteday</th>\n",
       "      <th>season</th>\n",
       "      <th>yr</th>\n",
       "      <th>mnth</th>\n",
       "      <th>hr</th>\n",
       "      <th>holiday</th>\n",
       "      <th>weekday</th>\n",
       "      <th>weathersit</th>\n",
       "      <th>temp</th>\n",
       "      <th>atemp</th>\n",
       "      <th>hum</th>\n",
       "      <th>windspeed</th>\n",
       "      <th>casual</th>\n",
       "      <th>registered</th>\n",
       "      <th>cnt</th>\n",
       "    </tr>\n",
       "  </thead>\n",
       "  <tbody>\n",
       "    <tr>\n",
       "      <th>0</th>\n",
       "      <td>2011-01-01</td>\n",
       "      <td>1</td>\n",
       "      <td>0</td>\n",
       "      <td>1</td>\n",
       "      <td>0</td>\n",
       "      <td>False</td>\n",
       "      <td>6</td>\n",
       "      <td>1</td>\n",
       "      <td>0.24</td>\n",
       "      <td>0.2879</td>\n",
       "      <td>0.81</td>\n",
       "      <td>0.0</td>\n",
       "      <td>3</td>\n",
       "      <td>13</td>\n",
       "      <td>16</td>\n",
       "    </tr>\n",
       "    <tr>\n",
       "      <th>1</th>\n",
       "      <td>2011-01-01</td>\n",
       "      <td>1</td>\n",
       "      <td>0</td>\n",
       "      <td>1</td>\n",
       "      <td>1</td>\n",
       "      <td>False</td>\n",
       "      <td>6</td>\n",
       "      <td>1</td>\n",
       "      <td>0.22</td>\n",
       "      <td>0.2727</td>\n",
       "      <td>0.80</td>\n",
       "      <td>0.0</td>\n",
       "      <td>8</td>\n",
       "      <td>32</td>\n",
       "      <td>40</td>\n",
       "    </tr>\n",
       "    <tr>\n",
       "      <th>2</th>\n",
       "      <td>2011-01-01</td>\n",
       "      <td>1</td>\n",
       "      <td>0</td>\n",
       "      <td>1</td>\n",
       "      <td>2</td>\n",
       "      <td>False</td>\n",
       "      <td>6</td>\n",
       "      <td>1</td>\n",
       "      <td>0.22</td>\n",
       "      <td>0.2727</td>\n",
       "      <td>0.80</td>\n",
       "      <td>0.0</td>\n",
       "      <td>5</td>\n",
       "      <td>27</td>\n",
       "      <td>32</td>\n",
       "    </tr>\n",
       "    <tr>\n",
       "      <th>3</th>\n",
       "      <td>2011-01-01</td>\n",
       "      <td>1</td>\n",
       "      <td>0</td>\n",
       "      <td>1</td>\n",
       "      <td>3</td>\n",
       "      <td>False</td>\n",
       "      <td>6</td>\n",
       "      <td>1</td>\n",
       "      <td>0.24</td>\n",
       "      <td>0.2879</td>\n",
       "      <td>0.75</td>\n",
       "      <td>0.0</td>\n",
       "      <td>3</td>\n",
       "      <td>10</td>\n",
       "      <td>13</td>\n",
       "    </tr>\n",
       "    <tr>\n",
       "      <th>4</th>\n",
       "      <td>2011-01-01</td>\n",
       "      <td>1</td>\n",
       "      <td>0</td>\n",
       "      <td>1</td>\n",
       "      <td>4</td>\n",
       "      <td>False</td>\n",
       "      <td>6</td>\n",
       "      <td>1</td>\n",
       "      <td>0.24</td>\n",
       "      <td>0.2879</td>\n",
       "      <td>0.75</td>\n",
       "      <td>0.0</td>\n",
       "      <td>0</td>\n",
       "      <td>1</td>\n",
       "      <td>1</td>\n",
       "    </tr>\n",
       "  </tbody>\n",
       "</table>\n",
       "</div>"
      ],
      "text/plain": [
       "      dteday  season  yr  mnth  hr  holiday  weekday  weathersit  temp  \\\n",
       "0 2011-01-01       1   0     1   0    False        6           1  0.24   \n",
       "1 2011-01-01       1   0     1   1    False        6           1  0.22   \n",
       "2 2011-01-01       1   0     1   2    False        6           1  0.22   \n",
       "3 2011-01-01       1   0     1   3    False        6           1  0.24   \n",
       "4 2011-01-01       1   0     1   4    False        6           1  0.24   \n",
       "\n",
       "    atemp   hum  windspeed  casual  registered  cnt  \n",
       "0  0.2879  0.81        0.0       3          13   16  \n",
       "1  0.2727  0.80        0.0       8          32   40  \n",
       "2  0.2727  0.80        0.0       5          27   32  \n",
       "3  0.2879  0.75        0.0       3          10   13  \n",
       "4  0.2879  0.75        0.0       0           1    1  "
      ]
     },
     "execution_count": 14,
     "metadata": {},
     "output_type": "execute_result"
    }
   ],
   "source": [
    "drop_data.head()"
   ]
  },
  {
   "cell_type": "markdown",
   "id": "092a2026",
   "metadata": {},
   "source": [
    "### Attribute information:\n",
    " \n",
    "• date = date of the ride\n",
    "\n",
    "• season - 1 = spring, 2 = summer, 3 = fall, 4 = winter\n",
    "\n",
    "• holiday - whether the day is considered a holiday\n",
    "\n",
    "• working day - whether the day is neither a weekend nor a holiday\n",
    "\n",
    "• weather:-\n",
    "          1: Clear, Few clouds, Partly cloudy, Partly cloudy\n",
    "          \n",
    "          2: Mist + Cloudy, Mist + Broken clouds, Mist + Few clouds, Mist\n",
    "          \n",
    "          3: Light Snow, Light Rain + Thunderstorm + Scattered clouds, Light \n",
    "             \n",
    "             Rain +Scattered clouds\n",
    "          \n",
    "          4: Heavy Rain + Ice Pallets + Thunderstorm + Mist, Snow + Fog\n",
    "          \n",
    "          \n",
    "• temp - \"feels like\" temperature in Celsius\n",
    "\n",
    "• atemp - \"feels like\" atmospheric pressure\n",
    "\n",
    "• humidity - relative humidity\n",
    "\n",
    "• windspeed - wind speed\n",
    "\n",
    "• casual - number of non-registered user rentals initiated\n",
    "\n",
    "• registered - number of registered user rentals initiated\n",
    "\n",
    "\n",
    "• count - number of total rentals\n",
    "\n",
    "           \n"
   ]
  },
  {
   "cell_type": "code",
   "execution_count": 19,
   "id": "0de3de54",
   "metadata": {},
   "outputs": [
    {
     "data": {
      "text/plain": [
       "Index(['dteday', 'season', 'yr', 'mnth', 'hr', 'holiday', 'weekday',\n",
       "       'weathersit', 'temp', 'atemp', 'hum', 'windspeed', 'casual',\n",
       "       'registered', 'cnt'],\n",
       "      dtype='object')"
      ]
     },
     "execution_count": 19,
     "metadata": {},
     "output_type": "execute_result"
    }
   ],
   "source": [
    "drop_data.columns"
   ]
  },
  {
   "cell_type": "code",
   "execution_count": 20,
   "id": "51d4a2fc",
   "metadata": {},
   "outputs": [
    {
     "data": {
      "text/plain": [
       "(610, 15)"
      ]
     },
     "execution_count": 20,
     "metadata": {},
     "output_type": "execute_result"
    }
   ],
   "source": [
    "drop_data.shape"
   ]
  },
  {
   "cell_type": "code",
   "execution_count": 21,
   "id": "d11e4ec1",
   "metadata": {},
   "outputs": [
    {
     "data": {
      "text/plain": [
       "2"
      ]
     },
     "execution_count": 21,
     "metadata": {},
     "output_type": "execute_result"
    }
   ],
   "source": [
    "#checking dimension of the dataset\n",
    "drop_data.ndim"
   ]
  },
  {
   "cell_type": "code",
   "execution_count": 22,
   "id": "e179cb3b",
   "metadata": {
    "scrolled": true
   },
   "outputs": [
    {
     "data": {
      "text/plain": [
       "dteday        datetime64[ns]\n",
       "season                 int64\n",
       "yr                     int64\n",
       "mnth                   int64\n",
       "hr                     int64\n",
       "holiday                 bool\n",
       "weekday                int64\n",
       "weathersit             int64\n",
       "temp                 float64\n",
       "atemp                float64\n",
       "hum                  float64\n",
       "windspeed            float64\n",
       "casual                 int64\n",
       "registered             int64\n",
       "cnt                    int64\n",
       "dtype: object"
      ]
     },
     "execution_count": 22,
     "metadata": {},
     "output_type": "execute_result"
    }
   ],
   "source": [
    "#checking datatype of the dataset\n",
    "drop_data.dtypes"
   ]
  },
  {
   "cell_type": "markdown",
   "id": "ce382c6b",
   "metadata": {},
   "source": [
    "# Checking Duplicates"
   ]
  },
  {
   "cell_type": "code",
   "execution_count": 23,
   "id": "39107c74",
   "metadata": {},
   "outputs": [
    {
     "name": "stdout",
     "output_type": "stream",
     "text": [
      "No duplicate rows found.\n"
     ]
    }
   ],
   "source": [
    "duplicates =drop_data[drop_data.duplicated()]\n",
    "\n",
    "if duplicates.empty:\n",
    "    print(\"No duplicate rows found.\")\n",
    "else:\n",
    "    print(\"Duplicate rows found.\")\n",
    "    print(duplicates)\n"
   ]
  },
  {
   "cell_type": "code",
   "execution_count": 24,
   "id": "5f3227fe",
   "metadata": {},
   "outputs": [],
   "source": [
    "# Select columns with a specific data type, for example, only numeric columns\n",
    "numeric_columns = drop_data.select_dtypes(include=np.number)\n"
   ]
  },
  {
   "cell_type": "code",
   "execution_count": 25,
   "id": "256e1883",
   "metadata": {},
   "outputs": [],
   "source": [
    "# Summary statistics for numeric columns\n",
    "numeric_summary = drop_data.select_dtypes(include=np.number).describe()\n",
    "\n",
    "# Summary statistics for categorical columns\n",
    "categorical_summary = drop_data.select_dtypes(exclude=np.number).describe()\n"
   ]
  },
  {
   "cell_type": "code",
   "execution_count": 26,
   "id": "30df8dd5",
   "metadata": {},
   "outputs": [
    {
     "data": {
      "text/html": [
       "<div>\n",
       "<style scoped>\n",
       "    .dataframe tbody tr th:only-of-type {\n",
       "        vertical-align: middle;\n",
       "    }\n",
       "\n",
       "    .dataframe tbody tr th {\n",
       "        vertical-align: top;\n",
       "    }\n",
       "\n",
       "    .dataframe thead th {\n",
       "        text-align: right;\n",
       "    }\n",
       "</style>\n",
       "<table border=\"1\" class=\"dataframe\">\n",
       "  <thead>\n",
       "    <tr style=\"text-align: right;\">\n",
       "      <th></th>\n",
       "      <th>season</th>\n",
       "      <th>yr</th>\n",
       "      <th>mnth</th>\n",
       "      <th>hr</th>\n",
       "      <th>weekday</th>\n",
       "      <th>weathersit</th>\n",
       "      <th>temp</th>\n",
       "      <th>atemp</th>\n",
       "      <th>hum</th>\n",
       "      <th>windspeed</th>\n",
       "      <th>casual</th>\n",
       "      <th>registered</th>\n",
       "      <th>cnt</th>\n",
       "    </tr>\n",
       "  </thead>\n",
       "  <tbody>\n",
       "    <tr>\n",
       "      <th>count</th>\n",
       "      <td>610.0</td>\n",
       "      <td>610.0</td>\n",
       "      <td>610.0</td>\n",
       "      <td>610.000000</td>\n",
       "      <td>610.000000</td>\n",
       "      <td>610.000000</td>\n",
       "      <td>610.000000</td>\n",
       "      <td>599.000000</td>\n",
       "      <td>610.000000</td>\n",
       "      <td>610.000000</td>\n",
       "      <td>610.000000</td>\n",
       "      <td>610.000000</td>\n",
       "      <td>610.000000</td>\n",
       "    </tr>\n",
       "    <tr>\n",
       "      <th>mean</th>\n",
       "      <td>1.0</td>\n",
       "      <td>0.0</td>\n",
       "      <td>1.0</td>\n",
       "      <td>11.795082</td>\n",
       "      <td>2.977049</td>\n",
       "      <td>1.477049</td>\n",
       "      <td>0.196885</td>\n",
       "      <td>0.199935</td>\n",
       "      <td>0.562475</td>\n",
       "      <td>0.204851</td>\n",
       "      <td>4.501639</td>\n",
       "      <td>51.068852</td>\n",
       "      <td>55.570492</td>\n",
       "    </tr>\n",
       "    <tr>\n",
       "      <th>std</th>\n",
       "      <td>0.0</td>\n",
       "      <td>0.0</td>\n",
       "      <td>0.0</td>\n",
       "      <td>6.852107</td>\n",
       "      <td>2.054943</td>\n",
       "      <td>0.643496</td>\n",
       "      <td>0.081304</td>\n",
       "      <td>0.078836</td>\n",
       "      <td>0.175440</td>\n",
       "      <td>0.121806</td>\n",
       "      <td>6.319945</td>\n",
       "      <td>47.021204</td>\n",
       "      <td>49.316802</td>\n",
       "    </tr>\n",
       "    <tr>\n",
       "      <th>min</th>\n",
       "      <td>1.0</td>\n",
       "      <td>0.0</td>\n",
       "      <td>1.0</td>\n",
       "      <td>0.000000</td>\n",
       "      <td>0.000000</td>\n",
       "      <td>1.000000</td>\n",
       "      <td>0.020000</td>\n",
       "      <td>0.000000</td>\n",
       "      <td>0.210000</td>\n",
       "      <td>0.000000</td>\n",
       "      <td>0.000000</td>\n",
       "      <td>0.000000</td>\n",
       "      <td>1.000000</td>\n",
       "    </tr>\n",
       "    <tr>\n",
       "      <th>25%</th>\n",
       "      <td>1.0</td>\n",
       "      <td>0.0</td>\n",
       "      <td>1.0</td>\n",
       "      <td>6.000000</td>\n",
       "      <td>1.000000</td>\n",
       "      <td>1.000000</td>\n",
       "      <td>0.160000</td>\n",
       "      <td>0.151500</td>\n",
       "      <td>0.432500</td>\n",
       "      <td>0.104500</td>\n",
       "      <td>0.000000</td>\n",
       "      <td>14.000000</td>\n",
       "      <td>16.000000</td>\n",
       "    </tr>\n",
       "    <tr>\n",
       "      <th>50%</th>\n",
       "      <td>1.0</td>\n",
       "      <td>0.0</td>\n",
       "      <td>1.0</td>\n",
       "      <td>12.000000</td>\n",
       "      <td>3.000000</td>\n",
       "      <td>1.000000</td>\n",
       "      <td>0.200000</td>\n",
       "      <td>0.197000</td>\n",
       "      <td>0.520000</td>\n",
       "      <td>0.194000</td>\n",
       "      <td>2.000000</td>\n",
       "      <td>43.000000</td>\n",
       "      <td>47.000000</td>\n",
       "    </tr>\n",
       "    <tr>\n",
       "      <th>75%</th>\n",
       "      <td>1.0</td>\n",
       "      <td>0.0</td>\n",
       "      <td>1.0</td>\n",
       "      <td>18.000000</td>\n",
       "      <td>5.000000</td>\n",
       "      <td>2.000000</td>\n",
       "      <td>0.235000</td>\n",
       "      <td>0.242400</td>\n",
       "      <td>0.690000</td>\n",
       "      <td>0.283600</td>\n",
       "      <td>6.000000</td>\n",
       "      <td>70.000000</td>\n",
       "      <td>79.750000</td>\n",
       "    </tr>\n",
       "    <tr>\n",
       "      <th>max</th>\n",
       "      <td>1.0</td>\n",
       "      <td>0.0</td>\n",
       "      <td>1.0</td>\n",
       "      <td>23.000000</td>\n",
       "      <td>6.000000</td>\n",
       "      <td>4.000000</td>\n",
       "      <td>0.460000</td>\n",
       "      <td>0.454500</td>\n",
       "      <td>1.000000</td>\n",
       "      <td>0.582100</td>\n",
       "      <td>47.000000</td>\n",
       "      <td>247.000000</td>\n",
       "      <td>249.000000</td>\n",
       "    </tr>\n",
       "  </tbody>\n",
       "</table>\n",
       "</div>"
      ],
      "text/plain": [
       "       season     yr   mnth          hr     weekday  weathersit        temp  \\\n",
       "count   610.0  610.0  610.0  610.000000  610.000000  610.000000  610.000000   \n",
       "mean      1.0    0.0    1.0   11.795082    2.977049    1.477049    0.196885   \n",
       "std       0.0    0.0    0.0    6.852107    2.054943    0.643496    0.081304   \n",
       "min       1.0    0.0    1.0    0.000000    0.000000    1.000000    0.020000   \n",
       "25%       1.0    0.0    1.0    6.000000    1.000000    1.000000    0.160000   \n",
       "50%       1.0    0.0    1.0   12.000000    3.000000    1.000000    0.200000   \n",
       "75%       1.0    0.0    1.0   18.000000    5.000000    2.000000    0.235000   \n",
       "max       1.0    0.0    1.0   23.000000    6.000000    4.000000    0.460000   \n",
       "\n",
       "            atemp         hum   windspeed      casual  registered         cnt  \n",
       "count  599.000000  610.000000  610.000000  610.000000  610.000000  610.000000  \n",
       "mean     0.199935    0.562475    0.204851    4.501639   51.068852   55.570492  \n",
       "std      0.078836    0.175440    0.121806    6.319945   47.021204   49.316802  \n",
       "min      0.000000    0.210000    0.000000    0.000000    0.000000    1.000000  \n",
       "25%      0.151500    0.432500    0.104500    0.000000   14.000000   16.000000  \n",
       "50%      0.197000    0.520000    0.194000    2.000000   43.000000   47.000000  \n",
       "75%      0.242400    0.690000    0.283600    6.000000   70.000000   79.750000  \n",
       "max      0.454500    1.000000    0.582100   47.000000  247.000000  249.000000  "
      ]
     },
     "execution_count": 26,
     "metadata": {},
     "output_type": "execute_result"
    }
   ],
   "source": [
    "numeric_summary"
   ]
  },
  {
   "cell_type": "code",
   "execution_count": 21,
   "id": "c2e7ea4e",
   "metadata": {},
   "outputs": [
    {
     "data": {
      "text/html": [
       "<div>\n",
       "<style scoped>\n",
       "    .dataframe tbody tr th:only-of-type {\n",
       "        vertical-align: middle;\n",
       "    }\n",
       "\n",
       "    .dataframe tbody tr th {\n",
       "        vertical-align: top;\n",
       "    }\n",
       "\n",
       "    .dataframe thead th {\n",
       "        text-align: right;\n",
       "    }\n",
       "</style>\n",
       "<table border=\"1\" class=\"dataframe\">\n",
       "  <thead>\n",
       "    <tr style=\"text-align: right;\">\n",
       "      <th></th>\n",
       "      <th>dteday</th>\n",
       "    </tr>\n",
       "  </thead>\n",
       "  <tbody>\n",
       "    <tr>\n",
       "      <th>count</th>\n",
       "      <td>610</td>\n",
       "    </tr>\n",
       "    <tr>\n",
       "      <th>mean</th>\n",
       "      <td>2011-01-13 19:47:24.590163968</td>\n",
       "    </tr>\n",
       "    <tr>\n",
       "      <th>min</th>\n",
       "      <td>2011-01-01 00:00:00</td>\n",
       "    </tr>\n",
       "    <tr>\n",
       "      <th>25%</th>\n",
       "      <td>2011-01-07 00:00:00</td>\n",
       "    </tr>\n",
       "    <tr>\n",
       "      <th>50%</th>\n",
       "      <td>2011-01-14 00:00:00</td>\n",
       "    </tr>\n",
       "    <tr>\n",
       "      <th>75%</th>\n",
       "      <td>2011-01-21 00:00:00</td>\n",
       "    </tr>\n",
       "    <tr>\n",
       "      <th>max</th>\n",
       "      <td>2011-01-28 00:00:00</td>\n",
       "    </tr>\n",
       "  </tbody>\n",
       "</table>\n",
       "</div>"
      ],
      "text/plain": [
       "                              dteday\n",
       "count                            610\n",
       "mean   2011-01-13 19:47:24.590163968\n",
       "min              2011-01-01 00:00:00\n",
       "25%              2011-01-07 00:00:00\n",
       "50%              2011-01-14 00:00:00\n",
       "75%              2011-01-21 00:00:00\n",
       "max              2011-01-28 00:00:00"
      ]
     },
     "execution_count": 21,
     "metadata": {},
     "output_type": "execute_result"
    }
   ],
   "source": [
    "categorical_summary"
   ]
  },
  {
   "cell_type": "code",
   "execution_count": 27,
   "id": "a4b0d199",
   "metadata": {},
   "outputs": [
    {
     "name": "stdout",
     "output_type": "stream",
     "text": [
      "<class 'pandas.core.frame.DataFrame'>\n",
      "RangeIndex: 610 entries, 0 to 609\n",
      "Data columns (total 15 columns):\n",
      " #   Column      Non-Null Count  Dtype         \n",
      "---  ------      --------------  -----         \n",
      " 0   dteday      610 non-null    datetime64[ns]\n",
      " 1   season      610 non-null    int64         \n",
      " 2   yr          610 non-null    int64         \n",
      " 3   mnth        610 non-null    int64         \n",
      " 4   hr          610 non-null    int64         \n",
      " 5   holiday     610 non-null    bool          \n",
      " 6   weekday     610 non-null    int64         \n",
      " 7   weathersit  610 non-null    int64         \n",
      " 8   temp        610 non-null    float64       \n",
      " 9   atemp       599 non-null    float64       \n",
      " 10  hum         610 non-null    float64       \n",
      " 11  windspeed   610 non-null    float64       \n",
      " 12  casual      610 non-null    int64         \n",
      " 13  registered  610 non-null    int64         \n",
      " 14  cnt         610 non-null    int64         \n",
      "dtypes: bool(1), datetime64[ns](1), float64(4), int64(9)\n",
      "memory usage: 67.4 KB\n"
     ]
    }
   ],
   "source": [
    "drop_data.info()"
   ]
  },
  {
   "cell_type": "code",
   "execution_count": 28,
   "id": "09f36d8e",
   "metadata": {
    "scrolled": true
   },
   "outputs": [
    {
     "data": {
      "text/plain": [
       "dteday         0\n",
       "season         0\n",
       "yr             0\n",
       "mnth           0\n",
       "hr             0\n",
       "holiday        0\n",
       "weekday        0\n",
       "weathersit     0\n",
       "temp           0\n",
       "atemp         11\n",
       "hum            0\n",
       "windspeed      0\n",
       "casual         0\n",
       "registered     0\n",
       "cnt            0\n",
       "dtype: int64"
      ]
     },
     "execution_count": 28,
     "metadata": {},
     "output_type": "execute_result"
    }
   ],
   "source": [
    "drop_data.isna().sum()"
   ]
  },
  {
   "cell_type": "markdown",
   "id": "6769dc68",
   "metadata": {},
   "source": [
    "# From above finding its clear that merged dataset has 11 null value in atemp column so we will replace the null value with mean value "
   ]
  },
  {
   "cell_type": "code",
   "execution_count": 29,
   "id": "6194057c",
   "metadata": {},
   "outputs": [
    {
     "data": {
      "text/plain": [
       "array([0.2879, 0.2727, 0.2576,    nan, 0.3485, 0.3939, 0.3333, 0.4242,\n",
       "       0.4545, 0.4394, 0.4091, 0.2273, 0.2121, 0.197 , 0.1364, 0.1061,\n",
       "       0.1212, 0.1667, 0.1818, 0.2424, 0.1515, 0.3182, 0.0606, 0.0758,\n",
       "       0.0909, 0.303 , 0.0303, 0.0455, 0.    , 0.0152])"
      ]
     },
     "execution_count": 29,
     "metadata": {},
     "output_type": "execute_result"
    }
   ],
   "source": [
    "drop_data['atemp'].unique()"
   ]
  },
  {
   "cell_type": "code",
   "execution_count": 30,
   "id": "cae7663f",
   "metadata": {},
   "outputs": [
    {
     "data": {
      "text/plain": [
       "0.19993489148580967"
      ]
     },
     "execution_count": 30,
     "metadata": {},
     "output_type": "execute_result"
    }
   ],
   "source": [
    "drop_data['atemp'].mean()"
   ]
  },
  {
   "cell_type": "code",
   "execution_count": 32,
   "id": "4cdc8746",
   "metadata": {},
   "outputs": [],
   "source": [
    "drop_data['atemp'].replace(np.nan, drop_data['atemp'].mean(),inplace=True)"
   ]
  },
  {
   "cell_type": "code",
   "execution_count": 33,
   "id": "fc17d284",
   "metadata": {},
   "outputs": [
    {
     "data": {
      "text/plain": [
       "dteday        0\n",
       "season        0\n",
       "yr            0\n",
       "mnth          0\n",
       "hr            0\n",
       "holiday       0\n",
       "weekday       0\n",
       "weathersit    0\n",
       "temp          0\n",
       "atemp         0\n",
       "hum           0\n",
       "windspeed     0\n",
       "casual        0\n",
       "registered    0\n",
       "cnt           0\n",
       "dtype: int64"
      ]
     },
     "execution_count": 33,
     "metadata": {},
     "output_type": "execute_result"
    }
   ],
   "source": [
    "drop_data.isna().sum()"
   ]
  },
  {
   "cell_type": "markdown",
   "id": "a8eb4e71",
   "metadata": {},
   "source": [
    "# Uploading Dataset3"
   ]
  },
  {
   "cell_type": "markdown",
   "id": "f7a5a560",
   "metadata": {},
   "source": [
    "##Data Acquisition"
   ]
  },
  {
   "cell_type": "code",
   "execution_count": 34,
   "id": "b2e8124f",
   "metadata": {},
   "outputs": [],
   "source": [
    "d3=pd.read_excel(\"C:\\\\Users\\\\chora\\\\OneDrive\\\\Desktop\\\\Nexthike\\\\dataset_3.xlsx\")"
   ]
  },
  {
   "cell_type": "code",
   "execution_count": 35,
   "id": "a694d9ac",
   "metadata": {},
   "outputs": [
    {
     "data": {
      "text/html": [
       "<div>\n",
       "<style scoped>\n",
       "    .dataframe tbody tr th:only-of-type {\n",
       "        vertical-align: middle;\n",
       "    }\n",
       "\n",
       "    .dataframe tbody tr th {\n",
       "        vertical-align: top;\n",
       "    }\n",
       "\n",
       "    .dataframe thead th {\n",
       "        text-align: right;\n",
       "    }\n",
       "</style>\n",
       "<table border=\"1\" class=\"dataframe\">\n",
       "  <thead>\n",
       "    <tr style=\"text-align: right;\">\n",
       "      <th></th>\n",
       "      <th>instant</th>\n",
       "      <th>dteday</th>\n",
       "      <th>season</th>\n",
       "      <th>yr</th>\n",
       "      <th>mnth</th>\n",
       "      <th>hr</th>\n",
       "      <th>holiday</th>\n",
       "      <th>weekday</th>\n",
       "      <th>weathersit</th>\n",
       "      <th>temp</th>\n",
       "      <th>atemp</th>\n",
       "      <th>hum</th>\n",
       "      <th>windspeed</th>\n",
       "      <th>casual</th>\n",
       "      <th>registered</th>\n",
       "      <th>cnt</th>\n",
       "    </tr>\n",
       "  </thead>\n",
       "  <tbody>\n",
       "    <tr>\n",
       "      <th>0</th>\n",
       "      <td>620</td>\n",
       "      <td>2011-01-29</td>\n",
       "      <td>1</td>\n",
       "      <td>0</td>\n",
       "      <td>1</td>\n",
       "      <td>1</td>\n",
       "      <td>False</td>\n",
       "      <td>6</td>\n",
       "      <td>1</td>\n",
       "      <td>0.22</td>\n",
       "      <td>0.2273</td>\n",
       "      <td>0.64</td>\n",
       "      <td>0.1940</td>\n",
       "      <td>0</td>\n",
       "      <td>20</td>\n",
       "      <td>20</td>\n",
       "    </tr>\n",
       "    <tr>\n",
       "      <th>1</th>\n",
       "      <td>621</td>\n",
       "      <td>2011-01-29</td>\n",
       "      <td>1</td>\n",
       "      <td>0</td>\n",
       "      <td>1</td>\n",
       "      <td>2</td>\n",
       "      <td>False</td>\n",
       "      <td>6</td>\n",
       "      <td>1</td>\n",
       "      <td>0.22</td>\n",
       "      <td>0.2273</td>\n",
       "      <td>0.64</td>\n",
       "      <td>0.1642</td>\n",
       "      <td>0</td>\n",
       "      <td>15</td>\n",
       "      <td>15</td>\n",
       "    </tr>\n",
       "    <tr>\n",
       "      <th>2</th>\n",
       "      <td>622</td>\n",
       "      <td>2011-01-29</td>\n",
       "      <td>1</td>\n",
       "      <td>0</td>\n",
       "      <td>1</td>\n",
       "      <td>3</td>\n",
       "      <td>False</td>\n",
       "      <td>6</td>\n",
       "      <td>1</td>\n",
       "      <td>0.20</td>\n",
       "      <td>0.2121</td>\n",
       "      <td>0.64</td>\n",
       "      <td>0.1343</td>\n",
       "      <td>3</td>\n",
       "      <td>5</td>\n",
       "      <td>8</td>\n",
       "    </tr>\n",
       "    <tr>\n",
       "      <th>3</th>\n",
       "      <td>623</td>\n",
       "      <td>2011-01-29</td>\n",
       "      <td>1</td>\n",
       "      <td>0</td>\n",
       "      <td>1</td>\n",
       "      <td>4</td>\n",
       "      <td>False</td>\n",
       "      <td>6</td>\n",
       "      <td>1</td>\n",
       "      <td>0.16</td>\n",
       "      <td>0.1818</td>\n",
       "      <td>0.69</td>\n",
       "      <td>0.1045</td>\n",
       "      <td>1</td>\n",
       "      <td>2</td>\n",
       "      <td>3</td>\n",
       "    </tr>\n",
       "    <tr>\n",
       "      <th>4</th>\n",
       "      <td>624</td>\n",
       "      <td>2011-01-29</td>\n",
       "      <td>1</td>\n",
       "      <td>0</td>\n",
       "      <td>1</td>\n",
       "      <td>6</td>\n",
       "      <td>False</td>\n",
       "      <td>6</td>\n",
       "      <td>1</td>\n",
       "      <td>0.16</td>\n",
       "      <td>0.1818</td>\n",
       "      <td>0.64</td>\n",
       "      <td>0.1343</td>\n",
       "      <td>0</td>\n",
       "      <td>2</td>\n",
       "      <td>2</td>\n",
       "    </tr>\n",
       "  </tbody>\n",
       "</table>\n",
       "</div>"
      ],
      "text/plain": [
       "   instant     dteday  season  yr  mnth  hr  holiday  weekday  weathersit  \\\n",
       "0      620 2011-01-29       1   0     1   1    False        6           1   \n",
       "1      621 2011-01-29       1   0     1   2    False        6           1   \n",
       "2      622 2011-01-29       1   0     1   3    False        6           1   \n",
       "3      623 2011-01-29       1   0     1   4    False        6           1   \n",
       "4      624 2011-01-29       1   0     1   6    False        6           1   \n",
       "\n",
       "   temp   atemp   hum  windspeed  casual  registered  cnt  \n",
       "0  0.22  0.2273  0.64     0.1940       0          20   20  \n",
       "1  0.22  0.2273  0.64     0.1642       0          15   15  \n",
       "2  0.20  0.2121  0.64     0.1343       3           5    8  \n",
       "3  0.16  0.1818  0.69     0.1045       1           2    3  \n",
       "4  0.16  0.1818  0.64     0.1343       0           2    2  "
      ]
     },
     "execution_count": 35,
     "metadata": {},
     "output_type": "execute_result"
    }
   ],
   "source": [
    "d3.head()"
   ]
  },
  {
   "cell_type": "code",
   "execution_count": 36,
   "id": "6ec97b9b",
   "metadata": {},
   "outputs": [
    {
     "data": {
      "text/plain": [
       "instant       0\n",
       "dteday        0\n",
       "season        0\n",
       "yr            0\n",
       "mnth          0\n",
       "hr            0\n",
       "holiday       0\n",
       "weekday       0\n",
       "weathersit    0\n",
       "temp          0\n",
       "atemp         0\n",
       "hum           0\n",
       "windspeed     0\n",
       "casual        0\n",
       "registered    0\n",
       "cnt           0\n",
       "dtype: int64"
      ]
     },
     "execution_count": 36,
     "metadata": {},
     "output_type": "execute_result"
    }
   ],
   "source": [
    "d3.isna().sum()"
   ]
  },
  {
   "cell_type": "code",
   "execution_count": 37,
   "id": "cb9c4f09",
   "metadata": {},
   "outputs": [
    {
     "data": {
      "text/plain": [
       "(390, 16)"
      ]
     },
     "execution_count": 37,
     "metadata": {},
     "output_type": "execute_result"
    }
   ],
   "source": [
    "d3.shape"
   ]
  },
  {
   "cell_type": "code",
   "execution_count": 38,
   "id": "b1f0b0b3",
   "metadata": {},
   "outputs": [
    {
     "data": {
      "text/plain": [
       "instant                int64\n",
       "dteday        datetime64[ns]\n",
       "season                 int64\n",
       "yr                     int64\n",
       "mnth                   int64\n",
       "hr                     int64\n",
       "holiday                 bool\n",
       "weekday                int64\n",
       "weathersit             int64\n",
       "temp                 float64\n",
       "atemp                float64\n",
       "hum                  float64\n",
       "windspeed            float64\n",
       "casual                 int64\n",
       "registered             int64\n",
       "cnt                    int64\n",
       "dtype: object"
      ]
     },
     "execution_count": 38,
     "metadata": {},
     "output_type": "execute_result"
    }
   ],
   "source": [
    "d3.dtypes"
   ]
  },
  {
   "cell_type": "code",
   "execution_count": 40,
   "id": "97114d3d",
   "metadata": {},
   "outputs": [
    {
     "name": "stdout",
     "output_type": "stream",
     "text": [
      "No duplicate rows found.\n"
     ]
    }
   ],
   "source": [
    "duplicates =d3[d3.duplicated()]\n",
    "\n",
    "if duplicates.empty:\n",
    "    print(\"No duplicate rows found.\")\n",
    "else:\n",
    "    print(\"Duplicate rows found.\")\n",
    "    print(duplicates)\n"
   ]
  },
  {
   "cell_type": "code",
   "execution_count": 41,
   "id": "c26be3de",
   "metadata": {},
   "outputs": [],
   "source": [
    "drop=d3.drop(['instant'], axis=1)"
   ]
  },
  {
   "cell_type": "code",
   "execution_count": 42,
   "id": "0aec3986",
   "metadata": {},
   "outputs": [],
   "source": [
    "concat_data=pd.concat([drop_data,drop],axis=0)"
   ]
  },
  {
   "cell_type": "code",
   "execution_count": 43,
   "id": "887703ad",
   "metadata": {},
   "outputs": [
    {
     "data": {
      "text/html": [
       "<div>\n",
       "<style scoped>\n",
       "    .dataframe tbody tr th:only-of-type {\n",
       "        vertical-align: middle;\n",
       "    }\n",
       "\n",
       "    .dataframe tbody tr th {\n",
       "        vertical-align: top;\n",
       "    }\n",
       "\n",
       "    .dataframe thead th {\n",
       "        text-align: right;\n",
       "    }\n",
       "</style>\n",
       "<table border=\"1\" class=\"dataframe\">\n",
       "  <thead>\n",
       "    <tr style=\"text-align: right;\">\n",
       "      <th></th>\n",
       "      <th>dteday</th>\n",
       "      <th>season</th>\n",
       "      <th>yr</th>\n",
       "      <th>mnth</th>\n",
       "      <th>hr</th>\n",
       "      <th>holiday</th>\n",
       "      <th>weekday</th>\n",
       "      <th>weathersit</th>\n",
       "      <th>temp</th>\n",
       "      <th>atemp</th>\n",
       "      <th>hum</th>\n",
       "      <th>windspeed</th>\n",
       "      <th>casual</th>\n",
       "      <th>registered</th>\n",
       "      <th>cnt</th>\n",
       "    </tr>\n",
       "  </thead>\n",
       "  <tbody>\n",
       "    <tr>\n",
       "      <th>0</th>\n",
       "      <td>2011-01-01</td>\n",
       "      <td>1</td>\n",
       "      <td>0</td>\n",
       "      <td>1</td>\n",
       "      <td>0</td>\n",
       "      <td>False</td>\n",
       "      <td>6</td>\n",
       "      <td>1</td>\n",
       "      <td>0.24</td>\n",
       "      <td>0.2879</td>\n",
       "      <td>0.81</td>\n",
       "      <td>0.0</td>\n",
       "      <td>3</td>\n",
       "      <td>13</td>\n",
       "      <td>16</td>\n",
       "    </tr>\n",
       "    <tr>\n",
       "      <th>1</th>\n",
       "      <td>2011-01-01</td>\n",
       "      <td>1</td>\n",
       "      <td>0</td>\n",
       "      <td>1</td>\n",
       "      <td>1</td>\n",
       "      <td>False</td>\n",
       "      <td>6</td>\n",
       "      <td>1</td>\n",
       "      <td>0.22</td>\n",
       "      <td>0.2727</td>\n",
       "      <td>0.80</td>\n",
       "      <td>0.0</td>\n",
       "      <td>8</td>\n",
       "      <td>32</td>\n",
       "      <td>40</td>\n",
       "    </tr>\n",
       "    <tr>\n",
       "      <th>2</th>\n",
       "      <td>2011-01-01</td>\n",
       "      <td>1</td>\n",
       "      <td>0</td>\n",
       "      <td>1</td>\n",
       "      <td>2</td>\n",
       "      <td>False</td>\n",
       "      <td>6</td>\n",
       "      <td>1</td>\n",
       "      <td>0.22</td>\n",
       "      <td>0.2727</td>\n",
       "      <td>0.80</td>\n",
       "      <td>0.0</td>\n",
       "      <td>5</td>\n",
       "      <td>27</td>\n",
       "      <td>32</td>\n",
       "    </tr>\n",
       "    <tr>\n",
       "      <th>3</th>\n",
       "      <td>2011-01-01</td>\n",
       "      <td>1</td>\n",
       "      <td>0</td>\n",
       "      <td>1</td>\n",
       "      <td>3</td>\n",
       "      <td>False</td>\n",
       "      <td>6</td>\n",
       "      <td>1</td>\n",
       "      <td>0.24</td>\n",
       "      <td>0.2879</td>\n",
       "      <td>0.75</td>\n",
       "      <td>0.0</td>\n",
       "      <td>3</td>\n",
       "      <td>10</td>\n",
       "      <td>13</td>\n",
       "    </tr>\n",
       "    <tr>\n",
       "      <th>4</th>\n",
       "      <td>2011-01-01</td>\n",
       "      <td>1</td>\n",
       "      <td>0</td>\n",
       "      <td>1</td>\n",
       "      <td>4</td>\n",
       "      <td>False</td>\n",
       "      <td>6</td>\n",
       "      <td>1</td>\n",
       "      <td>0.24</td>\n",
       "      <td>0.2879</td>\n",
       "      <td>0.75</td>\n",
       "      <td>0.0</td>\n",
       "      <td>0</td>\n",
       "      <td>1</td>\n",
       "      <td>1</td>\n",
       "    </tr>\n",
       "  </tbody>\n",
       "</table>\n",
       "</div>"
      ],
      "text/plain": [
       "      dteday  season  yr  mnth  hr  holiday  weekday  weathersit  temp  \\\n",
       "0 2011-01-01       1   0     1   0    False        6           1  0.24   \n",
       "1 2011-01-01       1   0     1   1    False        6           1  0.22   \n",
       "2 2011-01-01       1   0     1   2    False        6           1  0.22   \n",
       "3 2011-01-01       1   0     1   3    False        6           1  0.24   \n",
       "4 2011-01-01       1   0     1   4    False        6           1  0.24   \n",
       "\n",
       "    atemp   hum  windspeed  casual  registered  cnt  \n",
       "0  0.2879  0.81        0.0       3          13   16  \n",
       "1  0.2727  0.80        0.0       8          32   40  \n",
       "2  0.2727  0.80        0.0       5          27   32  \n",
       "3  0.2879  0.75        0.0       3          10   13  \n",
       "4  0.2879  0.75        0.0       0           1    1  "
      ]
     },
     "execution_count": 43,
     "metadata": {},
     "output_type": "execute_result"
    }
   ],
   "source": [
    "concat_data.head()"
   ]
  },
  {
   "cell_type": "markdown",
   "id": "0291501b",
   "metadata": {},
   "source": [
    "# Finding Outliers in Dataset"
   ]
  },
  {
   "cell_type": "code",
   "execution_count": 36,
   "id": "168ad01a",
   "metadata": {},
   "outputs": [
    {
     "data": {
      "text/html": [
       "<div>\n",
       "<style scoped>\n",
       "    .dataframe tbody tr th:only-of-type {\n",
       "        vertical-align: middle;\n",
       "    }\n",
       "\n",
       "    .dataframe tbody tr th {\n",
       "        vertical-align: top;\n",
       "    }\n",
       "\n",
       "    .dataframe thead th {\n",
       "        text-align: right;\n",
       "    }\n",
       "</style>\n",
       "<table border=\"1\" class=\"dataframe\">\n",
       "  <thead>\n",
       "    <tr style=\"text-align: right;\">\n",
       "      <th></th>\n",
       "      <th>instant</th>\n",
       "      <th>dteday</th>\n",
       "      <th>season</th>\n",
       "      <th>yr</th>\n",
       "      <th>mnth</th>\n",
       "      <th>hr</th>\n",
       "      <th>weekday</th>\n",
       "      <th>weathersit</th>\n",
       "      <th>temp</th>\n",
       "      <th>atemp</th>\n",
       "      <th>hum</th>\n",
       "      <th>windspeed</th>\n",
       "      <th>casual</th>\n",
       "      <th>registered</th>\n",
       "      <th>cnt</th>\n",
       "    </tr>\n",
       "  </thead>\n",
       "  <tbody>\n",
       "    <tr>\n",
       "      <th>count</th>\n",
       "      <td>1000.000000</td>\n",
       "      <td>1000</td>\n",
       "      <td>1000.0</td>\n",
       "      <td>1000.0</td>\n",
       "      <td>1000.000000</td>\n",
       "      <td>1000.000000</td>\n",
       "      <td>1000.000000</td>\n",
       "      <td>1000.000000</td>\n",
       "      <td>1000.000000</td>\n",
       "      <td>1000.000000</td>\n",
       "      <td>1000.000000</td>\n",
       "      <td>1000.000000</td>\n",
       "      <td>1000.000000</td>\n",
       "      <td>1000.000000</td>\n",
       "      <td>1000.000000</td>\n",
       "    </tr>\n",
       "    <tr>\n",
       "      <th>mean</th>\n",
       "      <td>500.500000</td>\n",
       "      <td>2011-01-22 15:56:09.600000</td>\n",
       "      <td>1.0</td>\n",
       "      <td>0.0</td>\n",
       "      <td>1.312000</td>\n",
       "      <td>11.753000</td>\n",
       "      <td>2.982000</td>\n",
       "      <td>1.480000</td>\n",
       "      <td>0.205900</td>\n",
       "      <td>0.211826</td>\n",
       "      <td>0.582480</td>\n",
       "      <td>0.194931</td>\n",
       "      <td>4.921000</td>\n",
       "      <td>53.383000</td>\n",
       "      <td>58.304000</td>\n",
       "    </tr>\n",
       "    <tr>\n",
       "      <th>min</th>\n",
       "      <td>1.000000</td>\n",
       "      <td>2011-01-01 00:00:00</td>\n",
       "      <td>1.0</td>\n",
       "      <td>0.0</td>\n",
       "      <td>1.000000</td>\n",
       "      <td>0.000000</td>\n",
       "      <td>0.000000</td>\n",
       "      <td>1.000000</td>\n",
       "      <td>0.020000</td>\n",
       "      <td>0.000000</td>\n",
       "      <td>0.210000</td>\n",
       "      <td>0.000000</td>\n",
       "      <td>0.000000</td>\n",
       "      <td>0.000000</td>\n",
       "      <td>1.000000</td>\n",
       "    </tr>\n",
       "    <tr>\n",
       "      <th>25%</th>\n",
       "      <td>250.750000</td>\n",
       "      <td>2011-01-11 00:00:00</td>\n",
       "      <td>1.0</td>\n",
       "      <td>0.0</td>\n",
       "      <td>1.000000</td>\n",
       "      <td>6.000000</td>\n",
       "      <td>1.000000</td>\n",
       "      <td>1.000000</td>\n",
       "      <td>0.160000</td>\n",
       "      <td>0.166700</td>\n",
       "      <td>0.440000</td>\n",
       "      <td>0.104500</td>\n",
       "      <td>0.000000</td>\n",
       "      <td>15.000000</td>\n",
       "      <td>16.000000</td>\n",
       "    </tr>\n",
       "    <tr>\n",
       "      <th>50%</th>\n",
       "      <td>500.500000</td>\n",
       "      <td>2011-01-22 00:00:00</td>\n",
       "      <td>1.0</td>\n",
       "      <td>0.0</td>\n",
       "      <td>1.000000</td>\n",
       "      <td>12.000000</td>\n",
       "      <td>3.000000</td>\n",
       "      <td>1.000000</td>\n",
       "      <td>0.200000</td>\n",
       "      <td>0.212100</td>\n",
       "      <td>0.550000</td>\n",
       "      <td>0.164200</td>\n",
       "      <td>3.000000</td>\n",
       "      <td>46.000000</td>\n",
       "      <td>49.000000</td>\n",
       "    </tr>\n",
       "    <tr>\n",
       "      <th>75%</th>\n",
       "      <td>750.250000</td>\n",
       "      <td>2011-02-03 00:00:00</td>\n",
       "      <td>1.0</td>\n",
       "      <td>0.0</td>\n",
       "      <td>2.000000</td>\n",
       "      <td>18.000000</td>\n",
       "      <td>5.000000</td>\n",
       "      <td>2.000000</td>\n",
       "      <td>0.240000</td>\n",
       "      <td>0.257600</td>\n",
       "      <td>0.700000</td>\n",
       "      <td>0.283600</td>\n",
       "      <td>6.000000</td>\n",
       "      <td>74.000000</td>\n",
       "      <td>83.000000</td>\n",
       "    </tr>\n",
       "    <tr>\n",
       "      <th>max</th>\n",
       "      <td>1000.000000</td>\n",
       "      <td>2011-02-14 00:00:00</td>\n",
       "      <td>1.0</td>\n",
       "      <td>0.0</td>\n",
       "      <td>2.000000</td>\n",
       "      <td>23.000000</td>\n",
       "      <td>6.000000</td>\n",
       "      <td>4.000000</td>\n",
       "      <td>0.460000</td>\n",
       "      <td>0.454500</td>\n",
       "      <td>1.000000</td>\n",
       "      <td>0.582100</td>\n",
       "      <td>62.000000</td>\n",
       "      <td>247.000000</td>\n",
       "      <td>249.000000</td>\n",
       "    </tr>\n",
       "    <tr>\n",
       "      <th>std</th>\n",
       "      <td>288.819436</td>\n",
       "      <td>NaN</td>\n",
       "      <td>0.0</td>\n",
       "      <td>0.0</td>\n",
       "      <td>0.463542</td>\n",
       "      <td>6.899101</td>\n",
       "      <td>2.091423</td>\n",
       "      <td>0.651171</td>\n",
       "      <td>0.078977</td>\n",
       "      <td>0.076290</td>\n",
       "      <td>0.187977</td>\n",
       "      <td>0.129126</td>\n",
       "      <td>7.643899</td>\n",
       "      <td>47.893968</td>\n",
       "      <td>50.985558</td>\n",
       "    </tr>\n",
       "  </tbody>\n",
       "</table>\n",
       "</div>"
      ],
      "text/plain": [
       "           instant                      dteday  season      yr         mnth  \\\n",
       "count  1000.000000                        1000  1000.0  1000.0  1000.000000   \n",
       "mean    500.500000  2011-01-22 15:56:09.600000     1.0     0.0     1.312000   \n",
       "min       1.000000         2011-01-01 00:00:00     1.0     0.0     1.000000   \n",
       "25%     250.750000         2011-01-11 00:00:00     1.0     0.0     1.000000   \n",
       "50%     500.500000         2011-01-22 00:00:00     1.0     0.0     1.000000   \n",
       "75%     750.250000         2011-02-03 00:00:00     1.0     0.0     2.000000   \n",
       "max    1000.000000         2011-02-14 00:00:00     1.0     0.0     2.000000   \n",
       "std     288.819436                         NaN     0.0     0.0     0.463542   \n",
       "\n",
       "                hr      weekday   weathersit         temp        atemp  \\\n",
       "count  1000.000000  1000.000000  1000.000000  1000.000000  1000.000000   \n",
       "mean     11.753000     2.982000     1.480000     0.205900     0.211826   \n",
       "min       0.000000     0.000000     1.000000     0.020000     0.000000   \n",
       "25%       6.000000     1.000000     1.000000     0.160000     0.166700   \n",
       "50%      12.000000     3.000000     1.000000     0.200000     0.212100   \n",
       "75%      18.000000     5.000000     2.000000     0.240000     0.257600   \n",
       "max      23.000000     6.000000     4.000000     0.460000     0.454500   \n",
       "std       6.899101     2.091423     0.651171     0.078977     0.076290   \n",
       "\n",
       "               hum    windspeed       casual   registered          cnt  \n",
       "count  1000.000000  1000.000000  1000.000000  1000.000000  1000.000000  \n",
       "mean      0.582480     0.194931     4.921000    53.383000    58.304000  \n",
       "min       0.210000     0.000000     0.000000     0.000000     1.000000  \n",
       "25%       0.440000     0.104500     0.000000    15.000000    16.000000  \n",
       "50%       0.550000     0.164200     3.000000    46.000000    49.000000  \n",
       "75%       0.700000     0.283600     6.000000    74.000000    83.000000  \n",
       "max       1.000000     0.582100    62.000000   247.000000   249.000000  \n",
       "std       0.187977     0.129126     7.643899    47.893968    50.985558  "
      ]
     },
     "execution_count": 36,
     "metadata": {},
     "output_type": "execute_result"
    }
   ],
   "source": [
    "## Calculate central tendency measures (mean, median, mode, etc.)\n",
    "concat_data.describe()"
   ]
  },
  {
   "cell_type": "code",
   "execution_count": 53,
   "id": "9ee01ddb",
   "metadata": {},
   "outputs": [],
   "source": [
    "q1=concat_data['cnt'].quantile(.25)\n",
    "q3=concat_data['cnt'].quantile(.75)"
   ]
  },
  {
   "cell_type": "code",
   "execution_count": 54,
   "id": "f94cd3bc",
   "metadata": {},
   "outputs": [],
   "source": [
    "def outlier(df,cols):\n",
    "    q1=df[cols].quantile(.25)\n",
    "    q3=df[cols].quantile(.75)\n",
    "    iqr=q3-q1\n",
    "    min_r=q1-1.5*iqr\n",
    "    max_r=q3+1.5*iqr\n",
    "    outlier_indices=df.index[(df[cols]<min_r)|(df[cols]>max_r)]\n",
    "    return outlier_indices"
   ]
  },
  {
   "cell_type": "code",
   "execution_count": 55,
   "id": "17f3f772",
   "metadata": {},
   "outputs": [],
   "source": [
    "import matplotlib.pyplot as plt\n",
    "import seaborn as sns\n"
   ]
  },
  {
   "cell_type": "code",
   "execution_count": 75,
   "id": "a68171f2",
   "metadata": {},
   "outputs": [
    {
     "data": {
      "text/plain": [
       "<Axes: >"
      ]
     },
     "execution_count": 75,
     "metadata": {},
     "output_type": "execute_result"
    },
    {
     "data": {
      "image/png": "[encoded data removed]",
      "text/plain": [
       "<Figure size 1500x800 with 1 Axes>"
      ]
     },
     "metadata": {},
     "output_type": "display_data"
    }
   ],
   "source": [
    "plt.figure(figsize=(15,8))\n",
    "sns.boxplot(data=concat_data)"
   ]
  },
  {
   "cell_type": "code",
   "execution_count": 56,
   "id": "20e53372",
   "metadata": {},
   "outputs": [
    {
     "data": {
      "text/plain": [
       "Index([ 85,  99, 108, 122, 145, 154, 217, 239, 285, 415, 424, 439, 448, 449,\n",
       "       463, 541, 555, 564, 565,  53, 109, 123, 146, 155, 218, 227, 242, 265,\n",
       "       310, 319],\n",
       "      dtype='int64')"
      ]
     },
     "execution_count": 56,
     "metadata": {},
     "output_type": "execute_result"
    }
   ],
   "source": [
    "outlier(concat_data,'cnt')"
   ]
  },
  {
   "cell_type": "code",
   "execution_count": 57,
   "id": "648a0415",
   "metadata": {},
   "outputs": [
    {
     "data": {
      "text/plain": [
       "<Axes: xlabel='cnt'>"
      ]
     },
     "execution_count": 57,
     "metadata": {},
     "output_type": "execute_result"
    },
    {
     "data": {
      "image/png": "[encoded data removed]",
      "text/plain": [
       "<Figure size 1500x1000 with 1 Axes>"
      ]
     },
     "metadata": {},
     "output_type": "display_data"
    }
   ],
   "source": [
    "plt.figure(figsize=(15,10))\n",
    "sns.boxplot(data=concat_data,x='cnt')"
   ]
  },
  {
   "cell_type": "code",
   "execution_count": 58,
   "id": "c9e7415a",
   "metadata": {},
   "outputs": [
    {
     "data": {
      "text/plain": [
       "Index([ 76,  85,  86,  99, 108, 109, 122, 131, 145, 154, 217, 226, 239, 285,\n",
       "       415, 424, 439, 448, 449, 463, 532, 541, 555, 564, 565,  53,  85,  86,\n",
       "       109, 110, 123, 132, 146, 155, 218, 227, 228, 242, 251, 265, 275, 288,\n",
       "       310, 319, 320],\n",
       "      dtype='int64')"
      ]
     },
     "execution_count": 58,
     "metadata": {},
     "output_type": "execute_result"
    }
   ],
   "source": [
    "outlier(concat_data,'registered')"
   ]
  },
  {
   "cell_type": "code",
   "execution_count": 59,
   "id": "b0c2c1b4",
   "metadata": {},
   "outputs": [
    {
     "data": {
      "text/plain": [
       "<Axes: xlabel='registered'>"
      ]
     },
     "execution_count": 59,
     "metadata": {},
     "output_type": "execute_result"
    },
    {
     "data": {
      "image/png": "[encoded data removed]",
      "text/plain": [
       "<Figure size 1500x1000 with 1 Axes>"
      ]
     },
     "metadata": {},
     "output_type": "display_data"
    }
   ],
   "source": [
    "plt.figure(figsize=(15,10))\n",
    "sns.boxplot(data=concat_data,x='registered')"
   ]
  },
  {
   "cell_type": "code",
   "execution_count": 60,
   "id": "425b2b7a",
   "metadata": {},
   "outputs": [
    {
     "data": {
      "text/plain": [
       "Index([ 11,  12,  13,  14,  15,  16,  34,  35,  38,  81,  83, 145, 147, 148,\n",
       "       335, 337, 338, 339, 340, 341, 359, 360, 361, 362, 363, 364, 365, 387,\n",
       "       512, 513, 515, 559, 560, 562, 567,  13,  14,  35,  37, 197, 198, 199,\n",
       "       200, 201, 202, 203, 226, 315, 316, 319, 337, 338, 339, 340, 341, 342,\n",
       "       343, 359, 360, 361, 362, 363, 364, 365, 366, 367],\n",
       "      dtype='int64')"
      ]
     },
     "execution_count": 60,
     "metadata": {},
     "output_type": "execute_result"
    }
   ],
   "source": [
    "outlier(concat_data,'casual')"
   ]
  },
  {
   "cell_type": "code",
   "execution_count": 61,
   "id": "fb91c47e",
   "metadata": {},
   "outputs": [
    {
     "data": {
      "text/plain": [
       "<Axes: xlabel='casual'>"
      ]
     },
     "execution_count": 61,
     "metadata": {},
     "output_type": "execute_result"
    },
    {
     "data": {
      "image/png": "[encoded data removed]",
      "text/plain": [
       "<Figure size 1500x1000 with 1 Axes>"
      ]
     },
     "metadata": {},
     "output_type": "display_data"
    }
   ],
   "source": [
    "plt.figure(figsize=(15,10))\n",
    "sns.boxplot(data=concat_data,x='casual')"
   ]
  },
  {
   "cell_type": "code",
   "execution_count": 62,
   "id": "c7d77b96",
   "metadata": {},
   "outputs": [
    {
     "data": {
      "text/plain": [
       "67.0"
      ]
     },
     "execution_count": 62,
     "metadata": {},
     "output_type": "execute_result"
    }
   ],
   "source": [
    "iqr=q3-q1\n",
    "iqr"
   ]
  },
  {
   "cell_type": "markdown",
   "id": "acf872cd",
   "metadata": {},
   "source": [
    "# Treating Outliers"
   ]
  },
  {
   "cell_type": "code",
   "execution_count": 63,
   "id": "3fb51ff4",
   "metadata": {},
   "outputs": [],
   "source": [
    "from scipy import stats"
   ]
  },
  {
   "cell_type": "code",
   "execution_count": 64,
   "id": "5015f082",
   "metadata": {},
   "outputs": [],
   "source": [
    "concat_data_num=concat_data.select_dtypes(include=['int64','float64'])"
   ]
  },
  {
   "cell_type": "code",
   "execution_count": 65,
   "id": "b2984f37",
   "metadata": {},
   "outputs": [],
   "source": [
    "gd=np.abs(stats.zscore(concat_data_num))"
   ]
  },
  {
   "cell_type": "code",
   "execution_count": 66,
   "id": "46bc3255",
   "metadata": {},
   "outputs": [
    {
     "name": "stdout",
     "output_type": "stream",
     "text": [
      "[ 12  13  13  13  14  14  14  15  16  23  24  24  27  27  28  85  85 122\n",
      " 122 239 239 285 340 341 360 363 439 439 448 448 463 463 555 555 564 564\n",
      " 565 565 585 756 756 807 808 809 810 811 812 828 828 837 837 852 852 875\n",
      " 920 920 947 949 950 951 952 971 972 973 974 975 976]\n"
     ]
    }
   ],
   "source": [
    "print(np.where((gd>3)|(gd<-3))[0])"
   ]
  },
  {
   "cell_type": "code",
   "execution_count": 67,
   "id": "61fa2039",
   "metadata": {},
   "outputs": [
    {
     "name": "stdout",
     "output_type": "stream",
     "text": [
      "[ 13  15  16 439 808 809 810 811 812 951 952 971 972 973 974]\n"
     ]
    }
   ],
   "source": [
    "print(np.where((gd>4)|(gd<-4))[0])"
   ]
  },
  {
   "cell_type": "markdown",
   "id": "1724d10b",
   "metadata": {},
   "source": [
    "# Check Skewness and Correlation"
   ]
  },
  {
   "cell_type": "code",
   "execution_count": 68,
   "id": "ef2e19e5",
   "metadata": {
    "scrolled": true
   },
   "outputs": [
    {
     "data": {
      "text/plain": [
       "season        0.000000\n",
       "yr            0.000000\n",
       "mnth          0.812772\n",
       "hr           -0.063524\n",
       "holiday       6.229578\n",
       "weekday       0.021925\n",
       "weathersit    1.044098\n",
       "temp          0.547997\n",
       "atemp         0.435927\n",
       "hum           0.436893\n",
       "windspeed     0.433675\n",
       "casual        3.414105\n",
       "registered    1.296723\n",
       "cnt           1.137709\n",
       "dtype: float64"
      ]
     },
     "execution_count": 68,
     "metadata": {},
     "output_type": "execute_result"
    }
   ],
   "source": [
    "concat_data.skew(axis=0,skipna=True,numeric_only=(int,float))"
   ]
  },
  {
   "cell_type": "code",
   "execution_count": 49,
   "id": "ab13ad8d",
   "metadata": {},
   "outputs": [],
   "source": [
    "import matplotlib.pyplot as plt\n",
    "import seaborn as sns"
   ]
  },
  {
   "cell_type": "code",
   "execution_count": 69,
   "id": "d33d0494",
   "metadata": {},
   "outputs": [
    {
     "data": {
      "text/plain": [
       "<Axes: xlabel='casual', ylabel='Density'>"
      ]
     },
     "execution_count": 69,
     "metadata": {},
     "output_type": "execute_result"
    },
    {
     "data": {
      "image/png": "[encoded data removed]",
      "text/plain": [
       "<Figure size 640x480 with 1 Axes>"
      ]
     },
     "metadata": {},
     "output_type": "display_data"
    }
   ],
   "source": [
    "sns.kdeplot(concat_data['casual'])\n",
    "##it is Symmetrical Skewness"
   ]
  },
  {
   "cell_type": "code",
   "execution_count": 70,
   "id": "a72f5034",
   "metadata": {},
   "outputs": [
    {
     "data": {
      "text/plain": [
       "<Axes: xlabel='registered', ylabel='Density'>"
      ]
     },
     "execution_count": 70,
     "metadata": {},
     "output_type": "execute_result"
    },
    {
     "data": {
      "image/png": "[encoded data removed]",
      "text/plain": [
       "<Figure size 640x480 with 1 Axes>"
      ]
     },
     "metadata": {},
     "output_type": "display_data"
    }
   ],
   "source": [
    "sns.kdeplot(concat_data['registered'])\n",
    "    ##it is Asymmetrical Skewness"
   ]
  },
  {
   "cell_type": "code",
   "execution_count": 53,
   "id": "0fdd1021",
   "metadata": {
    "scrolled": true
   },
   "outputs": [
    {
     "data": {
      "text/plain": [
       "<Axes: xlabel='cnt', ylabel='Density'>"
      ]
     },
     "execution_count": 53,
     "metadata": {},
     "output_type": "execute_result"
    },
    {
     "data": {
      "image/png": "[encoded data removed]",
      "text/plain": [
       "<Figure size 640x480 with 1 Axes>"
      ]
     },
     "metadata": {},
     "output_type": "display_data"
    }
   ],
   "source": [
    "sns.kdeplot(concat_data['cnt'])\n",
    "##it is Asymmetrical Skewness"
   ]
  },
  {
   "cell_type": "code",
   "execution_count": 71,
   "id": "318ef787",
   "metadata": {},
   "outputs": [
    {
     "data": {
      "text/html": [
       "<div>\n",
       "<style scoped>\n",
       "    .dataframe tbody tr th:only-of-type {\n",
       "        vertical-align: middle;\n",
       "    }\n",
       "\n",
       "    .dataframe tbody tr th {\n",
       "        vertical-align: top;\n",
       "    }\n",
       "\n",
       "    .dataframe thead th {\n",
       "        text-align: right;\n",
       "    }\n",
       "</style>\n",
       "<table border=\"1\" class=\"dataframe\">\n",
       "  <thead>\n",
       "    <tr style=\"text-align: right;\">\n",
       "      <th></th>\n",
       "      <th>dteday</th>\n",
       "      <th>season</th>\n",
       "      <th>yr</th>\n",
       "      <th>mnth</th>\n",
       "      <th>hr</th>\n",
       "      <th>holiday</th>\n",
       "      <th>weekday</th>\n",
       "      <th>weathersit</th>\n",
       "      <th>temp</th>\n",
       "      <th>atemp</th>\n",
       "      <th>hum</th>\n",
       "      <th>windspeed</th>\n",
       "      <th>casual</th>\n",
       "      <th>registered</th>\n",
       "      <th>cnt</th>\n",
       "    </tr>\n",
       "  </thead>\n",
       "  <tbody>\n",
       "    <tr>\n",
       "      <th>dteday</th>\n",
       "      <td>1.000000</td>\n",
       "      <td>NaN</td>\n",
       "      <td>NaN</td>\n",
       "      <td>0.804299</td>\n",
       "      <td>-0.022421</td>\n",
       "      <td>-0.068456</td>\n",
       "      <td>0.010248</td>\n",
       "      <td>0.033310</td>\n",
       "      <td>0.022342</td>\n",
       "      <td>0.078681</td>\n",
       "      <td>0.073485</td>\n",
       "      <td>-0.064148</td>\n",
       "      <td>0.065002</td>\n",
       "      <td>0.066988</td>\n",
       "      <td>0.072671</td>\n",
       "    </tr>\n",
       "    <tr>\n",
       "      <th>season</th>\n",
       "      <td>NaN</td>\n",
       "      <td>NaN</td>\n",
       "      <td>NaN</td>\n",
       "      <td>NaN</td>\n",
       "      <td>NaN</td>\n",
       "      <td>NaN</td>\n",
       "      <td>NaN</td>\n",
       "      <td>NaN</td>\n",
       "      <td>NaN</td>\n",
       "      <td>NaN</td>\n",
       "      <td>NaN</td>\n",
       "      <td>NaN</td>\n",
       "      <td>NaN</td>\n",
       "      <td>NaN</td>\n",
       "      <td>NaN</td>\n",
       "    </tr>\n",
       "    <tr>\n",
       "      <th>yr</th>\n",
       "      <td>NaN</td>\n",
       "      <td>NaN</td>\n",
       "      <td>NaN</td>\n",
       "      <td>NaN</td>\n",
       "      <td>NaN</td>\n",
       "      <td>NaN</td>\n",
       "      <td>NaN</td>\n",
       "      <td>NaN</td>\n",
       "      <td>NaN</td>\n",
       "      <td>NaN</td>\n",
       "      <td>NaN</td>\n",
       "      <td>NaN</td>\n",
       "      <td>NaN</td>\n",
       "      <td>NaN</td>\n",
       "      <td>NaN</td>\n",
       "    </tr>\n",
       "    <tr>\n",
       "      <th>mnth</th>\n",
       "      <td>0.804299</td>\n",
       "      <td>NaN</td>\n",
       "      <td>NaN</td>\n",
       "      <td>1.000000</td>\n",
       "      <td>-0.025646</td>\n",
       "      <td>-0.105600</td>\n",
       "      <td>0.034710</td>\n",
       "      <td>0.014061</td>\n",
       "      <td>0.159660</td>\n",
       "      <td>0.192216</td>\n",
       "      <td>0.066587</td>\n",
       "      <td>-0.029383</td>\n",
       "      <td>0.088326</td>\n",
       "      <td>0.072660</td>\n",
       "      <td>0.081496</td>\n",
       "    </tr>\n",
       "    <tr>\n",
       "      <th>hr</th>\n",
       "      <td>-0.022421</td>\n",
       "      <td>NaN</td>\n",
       "      <td>NaN</td>\n",
       "      <td>-0.025646</td>\n",
       "      <td>1.000000</td>\n",
       "      <td>-0.005753</td>\n",
       "      <td>0.007531</td>\n",
       "      <td>-0.055802</td>\n",
       "      <td>0.203512</td>\n",
       "      <td>0.148524</td>\n",
       "      <td>-0.194853</td>\n",
       "      <td>0.116640</td>\n",
       "      <td>0.204476</td>\n",
       "      <td>0.357042</td>\n",
       "      <td>0.366047</td>\n",
       "    </tr>\n",
       "    <tr>\n",
       "      <th>holiday</th>\n",
       "      <td>-0.068456</td>\n",
       "      <td>NaN</td>\n",
       "      <td>NaN</td>\n",
       "      <td>-0.105600</td>\n",
       "      <td>-0.005753</td>\n",
       "      <td>1.000000</td>\n",
       "      <td>-0.148682</td>\n",
       "      <td>0.165443</td>\n",
       "      <td>-0.059728</td>\n",
       "      <td>-0.072091</td>\n",
       "      <td>-0.037542</td>\n",
       "      <td>-0.001111</td>\n",
       "      <td>-0.000944</td>\n",
       "      <td>-0.054350</td>\n",
       "      <td>-0.051196</td>\n",
       "    </tr>\n",
       "    <tr>\n",
       "      <th>weekday</th>\n",
       "      <td>0.010248</td>\n",
       "      <td>NaN</td>\n",
       "      <td>NaN</td>\n",
       "      <td>0.034710</td>\n",
       "      <td>0.007531</td>\n",
       "      <td>-0.148682</td>\n",
       "      <td>1.000000</td>\n",
       "      <td>0.060007</td>\n",
       "      <td>-0.081776</td>\n",
       "      <td>-0.051646</td>\n",
       "      <td>0.062469</td>\n",
       "      <td>-0.056754</td>\n",
       "      <td>-0.047363</td>\n",
       "      <td>0.020505</td>\n",
       "      <td>0.012161</td>\n",
       "    </tr>\n",
       "    <tr>\n",
       "      <th>weathersit</th>\n",
       "      <td>0.033310</td>\n",
       "      <td>NaN</td>\n",
       "      <td>NaN</td>\n",
       "      <td>0.014061</td>\n",
       "      <td>-0.055802</td>\n",
       "      <td>0.165443</td>\n",
       "      <td>0.060007</td>\n",
       "      <td>1.000000</td>\n",
       "      <td>0.106041</td>\n",
       "      <td>0.136962</td>\n",
       "      <td>0.539402</td>\n",
       "      <td>-0.177655</td>\n",
       "      <td>-0.096346</td>\n",
       "      <td>-0.119234</td>\n",
       "      <td>-0.126448</td>\n",
       "    </tr>\n",
       "    <tr>\n",
       "      <th>temp</th>\n",
       "      <td>0.022342</td>\n",
       "      <td>NaN</td>\n",
       "      <td>NaN</td>\n",
       "      <td>0.159660</td>\n",
       "      <td>0.203512</td>\n",
       "      <td>-0.059728</td>\n",
       "      <td>-0.081776</td>\n",
       "      <td>0.106041</td>\n",
       "      <td>1.000000</td>\n",
       "      <td>0.909940</td>\n",
       "      <td>0.080720</td>\n",
       "      <td>0.122625</td>\n",
       "      <td>0.470221</td>\n",
       "      <td>0.169045</td>\n",
       "      <td>0.229292</td>\n",
       "    </tr>\n",
       "    <tr>\n",
       "      <th>atemp</th>\n",
       "      <td>0.078681</td>\n",
       "      <td>NaN</td>\n",
       "      <td>NaN</td>\n",
       "      <td>0.192216</td>\n",
       "      <td>0.148524</td>\n",
       "      <td>-0.072091</td>\n",
       "      <td>-0.051646</td>\n",
       "      <td>0.136962</td>\n",
       "      <td>0.909940</td>\n",
       "      <td>1.000000</td>\n",
       "      <td>0.192440</td>\n",
       "      <td>-0.212119</td>\n",
       "      <td>0.423553</td>\n",
       "      <td>0.138231</td>\n",
       "      <td>0.193349</td>\n",
       "    </tr>\n",
       "    <tr>\n",
       "      <th>hum</th>\n",
       "      <td>0.073485</td>\n",
       "      <td>NaN</td>\n",
       "      <td>NaN</td>\n",
       "      <td>0.066587</td>\n",
       "      <td>-0.194853</td>\n",
       "      <td>-0.037542</td>\n",
       "      <td>0.062469</td>\n",
       "      <td>0.539402</td>\n",
       "      <td>0.080720</td>\n",
       "      <td>0.192440</td>\n",
       "      <td>1.000000</td>\n",
       "      <td>-0.385550</td>\n",
       "      <td>-0.259407</td>\n",
       "      <td>-0.229370</td>\n",
       "      <td>-0.254353</td>\n",
       "    </tr>\n",
       "    <tr>\n",
       "      <th>windspeed</th>\n",
       "      <td>-0.064148</td>\n",
       "      <td>NaN</td>\n",
       "      <td>NaN</td>\n",
       "      <td>-0.029383</td>\n",
       "      <td>0.116640</td>\n",
       "      <td>-0.001111</td>\n",
       "      <td>-0.056754</td>\n",
       "      <td>-0.177655</td>\n",
       "      <td>0.122625</td>\n",
       "      <td>-0.212119</td>\n",
       "      <td>-0.385550</td>\n",
       "      <td>1.000000</td>\n",
       "      <td>0.129392</td>\n",
       "      <td>0.090059</td>\n",
       "      <td>0.103997</td>\n",
       "    </tr>\n",
       "    <tr>\n",
       "      <th>casual</th>\n",
       "      <td>0.065002</td>\n",
       "      <td>NaN</td>\n",
       "      <td>NaN</td>\n",
       "      <td>0.088326</td>\n",
       "      <td>0.204476</td>\n",
       "      <td>-0.000944</td>\n",
       "      <td>-0.047363</td>\n",
       "      <td>-0.096346</td>\n",
       "      <td>0.470221</td>\n",
       "      <td>0.423553</td>\n",
       "      <td>-0.259407</td>\n",
       "      <td>0.129392</td>\n",
       "      <td>1.000000</td>\n",
       "      <td>0.337706</td>\n",
       "      <td>0.467151</td>\n",
       "    </tr>\n",
       "    <tr>\n",
       "      <th>registered</th>\n",
       "      <td>0.066988</td>\n",
       "      <td>NaN</td>\n",
       "      <td>NaN</td>\n",
       "      <td>0.072660</td>\n",
       "      <td>0.357042</td>\n",
       "      <td>-0.054350</td>\n",
       "      <td>0.020505</td>\n",
       "      <td>-0.119234</td>\n",
       "      <td>0.169045</td>\n",
       "      <td>0.138231</td>\n",
       "      <td>-0.229370</td>\n",
       "      <td>0.090059</td>\n",
       "      <td>0.337706</td>\n",
       "      <td>1.000000</td>\n",
       "      <td>0.989993</td>\n",
       "    </tr>\n",
       "    <tr>\n",
       "      <th>cnt</th>\n",
       "      <td>0.072671</td>\n",
       "      <td>NaN</td>\n",
       "      <td>NaN</td>\n",
       "      <td>0.081496</td>\n",
       "      <td>0.366047</td>\n",
       "      <td>-0.051196</td>\n",
       "      <td>0.012161</td>\n",
       "      <td>-0.126448</td>\n",
       "      <td>0.229292</td>\n",
       "      <td>0.193349</td>\n",
       "      <td>-0.254353</td>\n",
       "      <td>0.103997</td>\n",
       "      <td>0.467151</td>\n",
       "      <td>0.989993</td>\n",
       "      <td>1.000000</td>\n",
       "    </tr>\n",
       "  </tbody>\n",
       "</table>\n",
       "</div>"
      ],
      "text/plain": [
       "              dteday  season  yr      mnth        hr   holiday   weekday  \\\n",
       "dteday      1.000000     NaN NaN  0.804299 -0.022421 -0.068456  0.010248   \n",
       "season           NaN     NaN NaN       NaN       NaN       NaN       NaN   \n",
       "yr               NaN     NaN NaN       NaN       NaN       NaN       NaN   \n",
       "mnth        0.804299     NaN NaN  1.000000 -0.025646 -0.105600  0.034710   \n",
       "hr         -0.022421     NaN NaN -0.025646  1.000000 -0.005753  0.007531   \n",
       "holiday    -0.068456     NaN NaN -0.105600 -0.005753  1.000000 -0.148682   \n",
       "weekday     0.010248     NaN NaN  0.034710  0.007531 -0.148682  1.000000   \n",
       "weathersit  0.033310     NaN NaN  0.014061 -0.055802  0.165443  0.060007   \n",
       "temp        0.022342     NaN NaN  0.159660  0.203512 -0.059728 -0.081776   \n",
       "atemp       0.078681     NaN NaN  0.192216  0.148524 -0.072091 -0.051646   \n",
       "hum         0.073485     NaN NaN  0.066587 -0.194853 -0.037542  0.062469   \n",
       "windspeed  -0.064148     NaN NaN -0.029383  0.116640 -0.001111 -0.056754   \n",
       "casual      0.065002     NaN NaN  0.088326  0.204476 -0.000944 -0.047363   \n",
       "registered  0.066988     NaN NaN  0.072660  0.357042 -0.054350  0.020505   \n",
       "cnt         0.072671     NaN NaN  0.081496  0.366047 -0.051196  0.012161   \n",
       "\n",
       "            weathersit      temp     atemp       hum  windspeed    casual  \\\n",
       "dteday        0.033310  0.022342  0.078681  0.073485  -0.064148  0.065002   \n",
       "season             NaN       NaN       NaN       NaN        NaN       NaN   \n",
       "yr                 NaN       NaN       NaN       NaN        NaN       NaN   \n",
       "mnth          0.014061  0.159660  0.192216  0.066587  -0.029383  0.088326   \n",
       "hr           -0.055802  0.203512  0.148524 -0.194853   0.116640  0.204476   \n",
       "holiday       0.165443 -0.059728 -0.072091 -0.037542  -0.001111 -0.000944   \n",
       "weekday       0.060007 -0.081776 -0.051646  0.062469  -0.056754 -0.047363   \n",
       "weathersit    1.000000  0.106041  0.136962  0.539402  -0.177655 -0.096346   \n",
       "temp          0.106041  1.000000  0.909940  0.080720   0.122625  0.470221   \n",
       "atemp         0.136962  0.909940  1.000000  0.192440  -0.212119  0.423553   \n",
       "hum           0.539402  0.080720  0.192440  1.000000  -0.385550 -0.259407   \n",
       "windspeed    -0.177655  0.122625 -0.212119 -0.385550   1.000000  0.129392   \n",
       "casual       -0.096346  0.470221  0.423553 -0.259407   0.129392  1.000000   \n",
       "registered   -0.119234  0.169045  0.138231 -0.229370   0.090059  0.337706   \n",
       "cnt          -0.126448  0.229292  0.193349 -0.254353   0.103997  0.467151   \n",
       "\n",
       "            registered       cnt  \n",
       "dteday        0.066988  0.072671  \n",
       "season             NaN       NaN  \n",
       "yr                 NaN       NaN  \n",
       "mnth          0.072660  0.081496  \n",
       "hr            0.357042  0.366047  \n",
       "holiday      -0.054350 -0.051196  \n",
       "weekday       0.020505  0.012161  \n",
       "weathersit   -0.119234 -0.126448  \n",
       "temp          0.169045  0.229292  \n",
       "atemp         0.138231  0.193349  \n",
       "hum          -0.229370 -0.254353  \n",
       "windspeed     0.090059  0.103997  \n",
       "casual        0.337706  0.467151  \n",
       "registered    1.000000  0.989993  \n",
       "cnt           0.989993  1.000000  "
      ]
     },
     "execution_count": 71,
     "metadata": {},
     "output_type": "execute_result"
    }
   ],
   "source": [
    "concat_data.corr()"
   ]
  },
  {
   "cell_type": "markdown",
   "id": "3b5a630d",
   "metadata": {},
   "source": [
    "#weathersit is highly correlated with humidity and vice versa\n",
    "\n",
    "#windspeed is highly correlated with casual\n",
    "\n",
    "#temperature is highly correlated with atmosphere and vice versa\n",
    "\n",
    "#casual is correlated with count\n",
    "\n",
    "#count is highly correlated with registered and vice versa\n"
   ]
  },
  {
   "cell_type": "code",
   "execution_count": null,
   "id": "de2a286e",
   "metadata": {},
   "outputs": [],
   "source": [
    "concat_data.to_csv('final_dataset.csv',index=False)"
   ]
  }
 ],
 "metadata": {
  "kernelspec": {
   "display_name": "Python 3 (ipykernel)",
   "language": "python",
   "name": "python3"
  },
  "language_info": {
   "codemirror_mode": {
    "name": "ipython",
    "version": 3
   },
   "file_extension": ".py",
   "mimetype": "text/x-python",
   "name": "python",
   "nbconvert_exporter": "python",
   "pygments_lexer": "ipython3",
   "version": "3.11.5"
  }
 },
 "nbformat": 4,
 "nbformat_minor": 5
}
